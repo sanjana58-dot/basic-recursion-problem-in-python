{
  "nbformat": 4,
  "nbformat_minor": 0,
  "metadata": {
    "colab": {
      "provenance": [],
      "authorship_tag": "ABX9TyPRJAzhvZ3R7Lt8WeHxjgxL",
      "include_colab_link": true
    },
    "kernelspec": {
      "name": "python3",
      "display_name": "Python 3"
    },
    "language_info": {
      "name": "python"
    }
  },
  "cells": [
    {
      "cell_type": "markdown",
      "metadata": {
        "id": "view-in-github",
        "colab_type": "text"
      },
      "source": [
        "<a href=\"https://colab.research.google.com/github/sanjana58-dot/basic-recursion-problem-in-python/blob/main/recursion.ipynb\" target=\"_parent\"><img src=\"https://colab.research.google.com/assets/colab-badge.svg\" alt=\"Open In Colab\"/></a>"
      ]
    },
    {
      "cell_type": "code",
      "execution_count": null,
      "metadata": {
        "id": "BO1hXoUEUKlj"
      },
      "outputs": [],
      "source": [
        "# basic recursion problem in python calculation of sum of n natural no. suing recursion\n",
        "def sum(n):\n",
        "    if (n == 0):\n",
        "        return 0\n",
        "    return n + sum(n-1)\n",
        "\n",
        "x = sum(5)\n",
        "print(x)"
      ]
    }
  ]
}